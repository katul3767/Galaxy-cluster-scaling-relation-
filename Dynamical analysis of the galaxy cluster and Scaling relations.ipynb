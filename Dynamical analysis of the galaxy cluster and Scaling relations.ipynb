{
 "cells": [
  {
   "cell_type": "code",
   "execution_count": 1,
   "id": "98f35d51",
   "metadata": {
    "scrolled": false
   },
   "outputs": [
    {
     "name": "stdout",
     "output_type": "stream",
     "text": [
      "WARNING: imaging routines will not be available, \n",
      "failed to import sherpa.image.ds9_backend due to \n",
      "'RuntimeErr: DS9Win unusable: Could not find ds9 on your PATH'\n",
      "WARNING: failed to import sherpa.astro.xspec; XSPEC models will not be available\n",
      "Opening massive_cluster2.fit\n",
      "DATA SET SIZE 193\n",
      "Pre_r200= 1.5596219770123363\n",
      "Calculating Density w/Mirrored Data\n",
      "Vdisp from galaxies= 1105.2117489028467\n",
      "Combined Vdisp= 1105.2117489028467\n",
      "Calculating initial surface\n",
      "complete\n",
      "DATA SET SIZE 193\n",
      "Pre_r200= 1.5596219770123363\n",
      "Calculating Density w/Mirrored Data\n",
      "Vdisp from galaxies= 1105.2117489028467\n",
      "Combined Vdisp= 1105.2117489028467\n",
      "Calculating initial surface\n",
      "complete\n",
      "r200 estimate:  1.5867593271761564\n",
      "M200 estimate:  1123128615264413.5\n",
      "1.0733504409358903 0.22567697122846683 250.09398041722073 46.70991551616914\n",
      "Opening kidstable.fit\n",
      "DATA SET SIZE 105\n",
      "Pre_r200= 1.9032855965190718\n",
      "Calculating Density w/Mirrored Data\n",
      "Vdisp from galaxies= 1417.792757041211\n",
      "Combined Vdisp= 1417.792757041211\n",
      "Calculating initial surface\n",
      "complete\n",
      "DATA SET SIZE 105\n",
      "Pre_r200= 1.9032855965190718\n",
      "Calculating Density w/Mirrored Data\n",
      "Vdisp from galaxies= 1417.792757041211\n",
      "Combined Vdisp= 1417.792757041211\n",
      "Calculating initial surface\n",
      "complete\n",
      "r200 estimate:  1.8845355176773535\n",
      "M200 estimate:  1929629391816965.2\n",
      "1.8912582518913406 0.2525568867013568 210.2584036095238 2.8723035714285716\n",
      "Opening massive_cluster7.fit\n",
      "DATA SET SIZE 143\n",
      "Pre_r200= 1.6912935435980547\n",
      "Calculating Density w/Mirrored Data\n",
      "Vdisp from galaxies= 1233.8930974903733\n",
      "Combined Vdisp= 1233.8930974903733\n",
      "Calculating initial surface\n",
      "complete\n",
      "DATA SET SIZE 143\n",
      "Pre_r200= 1.6912935435980547\n",
      "Calculating Density w/Mirrored Data\n",
      "Vdisp from galaxies= 1233.8930974903733\n",
      "Combined Vdisp= 1233.8930974903733\n",
      "Calculating initial surface\n",
      "complete\n",
      "r200 estimate:  1.7306534132102895\n",
      "M200 estimate:  1389412170209082.0\n",
      "1.3137489159528748 0.17362493143914498 248.96997362595667 66.2072214600789\n",
      "Opening massive_cluster8.fit\n",
      "DATA SET SIZE 181\n",
      "Pre_r200= 1.7219033219477642\n",
      "Calculating Density w/Mirrored Data\n",
      "Vdisp from galaxies= 1263.6178236555995\n",
      "Combined Vdisp= 1263.6178236555995\n",
      "Calculating initial surface\n",
      "complete\n",
      "DATA SET SIZE 181\n",
      "Pre_r200= 1.7219033219477642\n",
      "Calculating Density w/Mirrored Data\n",
      "Vdisp from galaxies= 1263.6178236555995\n",
      "Combined Vdisp= 1263.6178236555995\n",
      "Calculating initial surface\n",
      "complete\n",
      "r200 estimate:  1.5480697641344427\n",
      "M200 estimate:  1440030461092235.5\n",
      "1.381420157771883 0.5439808505012634 109.38526070515844 37.754153340815634\n",
      "Opening massive_cluster13.fit\n",
      "DATA SET SIZE 148\n",
      "Pre_r200= 1.7831586318476234\n",
      "Calculating Density w/Mirrored Data\n",
      "Vdisp from galaxies= 1312.4931004599064\n",
      "Combined Vdisp= 1312.4931004599064\n",
      "Calculating initial surface\n",
      "complete\n",
      "DATA SET SIZE 148\n",
      "Pre_r200= 1.7831586318476234\n",
      "Calculating Density w/Mirrored Data\n",
      "Vdisp from galaxies= 1312.4931004599064\n",
      "Combined Vdisp= 1312.4931004599064\n",
      "Calculating initial surface\n",
      "complete\n",
      "r200 estimate:  1.8681826681961942\n",
      "M200 estimate:  1843880526659976.8\n",
      "1.7822254345415798 0.23189751784268178 203.81778164990374 40.996283157474885\n",
      "Opening massive_cluster15.fit\n",
      "DATA SET SIZE 132\n",
      "Pre_r200= 1.7008771554255389\n",
      "Calculating Density w/Mirrored Data\n",
      "Vdisp from galaxies= 1232.7319113752155\n",
      "Combined Vdisp= 1232.7319113752155\n",
      "Calculating initial surface\n",
      "complete\n",
      "DATA SET SIZE 132\n",
      "Pre_r200= 1.7008771554255389\n",
      "Calculating Density w/Mirrored Data\n",
      "Vdisp from galaxies= 1232.7319113752155\n",
      "Combined Vdisp= 1232.7319113752155\n",
      "Calculating initial surface\n",
      "complete\n",
      "r200 estimate:  1.7296859639147093\n",
      "M200 estimate:  1526959140939098.8\n",
      "1.53607715026715 0.27671193723325377 203.1600691066203 50.51864028176832\n",
      "Opening massive_cluster16.fit\n",
      "DATA SET SIZE 135\n",
      "Pre_r200= 1.665119918702065\n",
      "Calculating Density w/Mirrored Data\n",
      "Vdisp from galaxies= 1223.9755192400103\n",
      "Combined Vdisp= 1223.9755192400103\n",
      "Calculating initial surface\n",
      "complete\n",
      "DATA SET SIZE 135\n",
      "Pre_r200= 1.665119918702065\n",
      "Calculating Density w/Mirrored Data\n",
      "Vdisp from galaxies= 1223.9755192400103\n",
      "Combined Vdisp= 1223.9755192400103\n",
      "Calculating initial surface\n",
      "complete\n",
      "r200 estimate:  1.7614233393709817\n",
      "M200 estimate:  1477225407539164.5\n",
      "1.4758585057048683 0.18275992755872617 127.70881407646084 65.86910697262002\n"
     ]
    }
   ],
   "source": [
    "import astropy.io.fits\n",
    "import astropy.io.fits\n",
    "import numpy as np\n",
    "import numpy.ma as ma\n",
    "from astropy.stats import sigma_clip\n",
    "from scipy.interpolate import interp1d\n",
    "import causticpy\n",
    "import matplotlib.pyplot as plt\n",
    "from numpy import log as ln\n",
    "import astropy.io.fits\n",
    "from astropy.table import Table\n",
    "import matplotlib.pyplot as plt\n",
    "import scipy as sp\n",
    "import scipy.integrate as integrate\n",
    "from scipy import log,exp,sqrt,stats\n",
    "from astropy import units as u\n",
    "import astropy.constants as const\n",
    "from scipy.optimize import curve_fit\n",
    "from scipy.integrate import quad\n",
    "from astropy.stats import biweight_location, biweight_scale, bootstrap\n",
    "from astropy.cosmology import LambdaCDM\n",
    "from scipy.interpolate import interp1d\n",
    "from astropy.coordinates import SkyCoord\n",
    "import scipy.stats as stats\n",
    "from astLib import astCoords as aco\n",
    "from astLib import astStats as ast\n",
    "from astLib import astCalc as aca\n",
    "from astropy.stats import sigma_clip \n",
    "from colossus.halo import profile_nfw\n",
    "import sherpa.astro.ui as ui\n",
    "import uncertainties\n",
    "from scipy.optimize import least_squares\n",
    "from uncertainties import ufloat\n",
    "from uncertainties import ufloat, umath, unumpy\n",
    "try:\n",
    "    from uncertainties import Variable\n",
    "except ImportError:\n",
    "    from uncertainties.core import Variable\n",
    "cosmos = LambdaCDM(H0=67.77* u.km / u.Mpc / u.s, Om0=0.307115, Ode0=0.692885)  # define cosmology\n",
    "c=const.c.to(\"km/s\").value\n",
    "%matplotlib inline\n",
    "\n",
    "# Define the paths to the data files\n",
    "path_2_data = [\n",
    "    'massive_cluster2.fit',  # ACO 2219  9.8 keV ,38.300  ,Lambda  72 + 2.6\n",
    "    'kidstable.fit',         # ACO 1835  7.65   ,39.600      ,114.096 ,4.96\n",
    "    'massive_cluster7.fit',  # # Abel 2218  6.70  ,8.460  ,  58 ,2.36\n",
    "    'massive_cluster8.fit',  # MACS J0717.5+3745  10.50 ,46.900 ,77.57 ,3.94\n",
    "    'massive_cluster13.fit', # ACO 1763   6.9  ,  9.330    71,65, 2.85\n",
    "    'massive_cluster15.fit', # ACO 1758   7.95  ,21.100 , 41.90, 2.94\n",
    "    'massive_cluster16.fit', # Abel 665   8.30  ,13.500  ,71.5  ,2.57\n",
    "    \n",
    "]\n",
    "\n",
    "# Loop over the clusters\n",
    "for i, path in enumerate(path_2_data):\n",
    "    print('Opening', path)\n",
    "    my_file = astropy.io.fits.open(path)\n",
    "    data = my_file[1].data\n",
    "\n",
    "    # cluster analysis\n",
    "    ra = data.field('ra')\n",
    "    dec = data.field('dec')\n",
    "    zspec = data.field('zspec')\n",
    "\n",
    "    # Neglecting nans from the data set\n",
    "    z0 = data.field('zspec')\n",
    "    mask0 = np.where(z0 > 0)\n",
    "    z_gal = zspec[mask0]\n",
    "\n",
    "    # After the removal of nans\n",
    "    ra_gal = ra[mask0]\n",
    "    dec_gal = dec[mask0]\n",
    "\n",
    "    # Sigma clipping to remove the interlopers\n",
    "    clipped_redshift = sigma_clip(z_gal, sigma=2.5, maxiters=10000)\n",
    "\n",
    "    zz = []\n",
    "    zk = []\n",
    "    for x in range(len(clipped_redshift)):\n",
    "        if not ma.is_masked(clipped_redshift[x]):\n",
    "            zz.append(clipped_redshift[x])\n",
    "        else:\n",
    "            zk.append(clipped_redshift[x])\n",
    "\n",
    "    z_halo = np.array(zz)\n",
    "    mask1 = np.where(z_halo)\n",
    "    z_halo_max, z_halo_min = z_halo.max(), z_halo.min()\n",
    "\n",
    "    # cluster's coordinates\n",
    "    ra_masked = ra_gal[mask1]\n",
    "    dec_masked = dec_gal[mask1]\n",
    "    ra_cl = np.mean(ra_masked)\n",
    "    dec_cl = np.mean(dec_masked)\n",
    "    z_cl = np.mean(z_halo)\n",
    "\n",
    "    # caustic analysis\n",
    "    cluster_data = np.vstack((ra_masked, dec_masked, z_halo)).T\n",
    "    caustic = causticpy.Caustic()\n",
    "    caustic.run_caustic(cluster_data)\n",
    "\n",
    "    caustic.run_caustic(cluster_data, clus_ra=caustic.clus_ra, clus_dec=caustic.clus_dec, clus_z=caustic.clus_z)\n",
    "\n",
    "    h0 = 67.77\n",
    "    class MassCalc:\n",
    "        def __init__(self, ri, A, vdisp, clus_z, r200=None, conc1=None, beta=0.25, fbr=None, H0=h0):\n",
    "            \"Calculate the mass profile\"\n",
    "            G = 6.67E-11\n",
    "            solmass = 1.98892e30\n",
    "            self.crit = 2.7745946e11 * (H0 / 100.0) ** 2.0 * (0.25 * (1 + clus_z) ** 3.0 + 0.75)\n",
    "            r2 = ri[ri >= 0]\n",
    "            A2 = A[ri >= 0]\n",
    "            kmMpc = 3.08568025e19\n",
    "            sumtot = np.zeros(A2.size)\n",
    "\n",
    "            if conc1 is None:\n",
    "                self.conc = 5.0 + np.random.normal(0, 2.0)\n",
    "                if self.conc <= 0:\n",
    "                    self.conc = 5.0\n",
    "            else:\n",
    "                self.conc = conc1\n",
    "            beta = 0.5 * (ri / (ri + r200 / self.conc))\n",
    "            self.g_b = (3 - 2.0 * beta) / (1 - beta)\n",
    "            if fbr is None:\n",
    "                self.f_beta = 0.5 * ((r2 / r200 * self.conc) ** 2) / (\n",
    "                        (1 + ((r2 / r200 * self.conc))) ** 2 * np.log(1 + ((r2 / r200 * self.conc)))) * self.g_b\n",
    "                self.f_beta[0] = 0\n",
    "                for i in range(A2.size - 1):\n",
    "                    i += 1\n",
    "                    sumtot[i] = np.trapz(self.f_beta[1:i + 1] * (A2[1:i + 1] * 1000) ** 2, (r2[1:i + 1]) * kmMpc * 1000)\n",
    "            else:\n",
    "                if isinstance(fbr, float) or isinstance(fbr, int) or isinstance(fbr, np.float64):\n",
    "                    self.f_beta = np.zeros(A2.size) + fbr * 1.0\n",
    "                else:\n",
    "                    self.f_beta = fbr\n",
    "                self.f_beta[0] = 0\n",
    "                for i in range(A2.size - 1):\n",
    "                    i += 1\n",
    "                    sumtot[i] = np.trapz(self.f_beta[1:i + 1] * (A2[1:i + 1] * 1000) ** 2, (r2[1:i + 1]) * kmMpc * 1000)\n",
    "\n",
    "            self.massprofile = sumtot / (G * solmass)\n",
    "\n",
    "            self.avg_density = self.massprofile / (4.0 / 3.0 * np.pi * (ri[:self.f_beta.size]) ** 3.0)\n",
    "            try:\n",
    "                finterp = interp1d(self.avg_density[::-1], ri[:self.f_beta.size][::-1])\n",
    "                self.r200_est = finterp(200 * self.crit)\n",
    "                self.r500_est = finterp(500 * self.crit)\n",
    "            except IndexError:\n",
    "                self.r200_est = 0.0\n",
    "                self.r500_est = 0.0\n",
    "            finterp = interp1d(ri[:self.f_beta.size], self.massprofile)\n",
    "            self.M200_est = finterp(self.r200_est)\n",
    "            self.M500_est = finterp(self.r500_est)\n",
    "            self.M200 = self.massprofile[np.where(ri[:self.f_beta.size] <= r200)[0][-1]]\n",
    "    \n",
    "        \n",
    "   \n",
    "    # Calculate mass using MassCalc\n",
    "    m = MassCalc(\n",
    "        ri=caustic.x_range,\n",
    "        A=caustic.caustic_profile,\n",
    "        vdisp=caustic.vdisp_gal,\n",
    "        clus_z=caustic.clus_z,\n",
    "        r200=caustic.r200,\n",
    "        conc1=5,\n",
    "        beta=0.33,\n",
    "        fbr=None,\n",
    "        H0=67.77,\n",
    "    )\n",
    "    print(\n",
    "        m.M500_est/1e15, caustic.clus_z, ra_cl, dec_cl \n",
    "    # Print the results\n",
    "    #print(\n",
    "    #    m.M200_est, m.M200 \n",
    "    )\n",
    "    "
   ]
  },
  {
   "cell_type": "raw",
   "id": "8c6de073",
   "metadata": {},
   "source": [
    "*  Fit a scaling relation: Analyze the data and fit a mathematical function that describes the scaling relation between mass and temperature. Common forms of scaling relations include power-law relationships or more complex functional forms. The fitting process aims to find the best-fit parameters that minimize the differences between the observed data and the model.\n",
    "\n",
    "*  Evaluate the scaling relation: Assess the goodness of fit for your scaling relation by examining statistical measures like the reduced chi-squared value or by performing hypothesis testing. This step helps determine the reliability and significance of the derived relation.\n",
    "\n",
    "*  Interpret the results: Analyze the implications of the scaling relation you obtained. Consider how it aligns with theoretical predictions or other observational studies. This analysis can provide insights into the physical processes governing the properties of galaxy clusters and their formation.\n",
    "\n",
    "*  Communicate your findings: Document your results in a clear and concise manner, and share your findings with the scientific community through publications, presentations, or discussions. This step ensures that your research contributes to the broader understanding of galaxy clusters and scaling relations.\n",
    "\n"
   ]
  },
  {
   "cell_type": "code",
   "execution_count": 172,
   "id": "9b401050",
   "metadata": {},
   "outputs": [],
   "source": [
    "# m500 of the clusters\n",
    "mm=np.array([1.0687801187382955 ,1.8912582518913406 ,1.3137489159528748,1.6943235694538645,1.7822254345415798,1.53607715026715,1.4758585057048683  ])"
   ]
  },
  {
   "cell_type": "code",
   "execution_count": 173,
   "id": "b05445d4",
   "metadata": {},
   "outputs": [],
   "source": [
    "# redshifts of the clusters\n",
    "red=np.array([ 0.22579844657218817,0.2525568867013568, 0.17362493143914498, 0.54474090837469, 0.23189751784268178,0.27671193723325377 ,0.18275992755872617])"
   ]
  },
  {
   "cell_type": "code",
   "execution_count": 174,
   "id": "af8a57e6",
   "metadata": {},
   "outputs": [
    {
     "data": {
      "text/plain": [
       "array([0.22579845, 0.25255689, 0.17362493, 0.54474091, 0.23189752,\n",
       "       0.27671194, 0.18275993])"
      ]
     },
     "execution_count": 174,
     "metadata": {},
     "output_type": "execute_result"
    }
   ],
   "source": [
    "M_500=mm*1e15\n",
    "z=red\n",
    "z"
   ]
  },
  {
   "cell_type": "code",
   "execution_count": 175,
   "id": "f27d0ba9",
   "metadata": {},
   "outputs": [],
   "source": [
    "def E(z):\n",
    "    \"\"\"\n",
    "    Evolution factor E(z) at a given redshift.\n",
    "    \"\"\"\n",
    "    try:\n",
    "        return (Om0 * (1+z)**3 + Omega_k * (1+z)**2 + Ode0) ** 0.5\n",
    "    except AttributeError:\n",
    "        from uncertainties import unumpy\n",
    "        return unumpy.sqrt(Om0 * (1+z)**3 + Omega_k * (1+z)**2 + Ode0)"
   ]
  },
  {
   "cell_type": "code",
   "execution_count": null,
   "id": "cf8b31c2",
   "metadata": {},
   "outputs": [],
   "source": []
  },
  {
   "cell_type": "code",
   "execution_count": 176,
   "id": "9043a6eb",
   "metadata": {},
   "outputs": [],
   "source": [
    "# from the literature\n",
    "Tobs =np.array([9.8,7.65,6.70,10.50,6.9,7.95,8.30])\n",
    "\n",
    "#Literature\n",
    "Lx= np.array([ 38.300, 39.600,8.460 ,46.900 ,9.330 ,21.100,13.500])*1e44\n"
   ]
  },
  {
   "cell_type": "markdown",
   "id": "06d941ab",
   "metadata": {},
   "source": [
    "# Temprature Mass Redshift scaling relation"
   ]
  },
  {
   "cell_type": "code",
   "execution_count": 187,
   "id": "2ffe32e8",
   "metadata": {},
   "outputs": [
    {
     "data": {
      "text/plain": [
       "array([ 9.09083815, 12.81779214, 10.39741624, 11.38679974, 12.40447525,\n",
       "       11.24521678, 11.14559538])"
      ]
     },
     "execution_count": 187,
     "metadata": {},
     "output_type": "execute_result"
    }
   ],
   "source": [
    "# Using Arnaud 2005\n",
    "def T_M_relation(M, z, A=3.79e14, B=1.64):\n",
    "    \"\"\"\n",
    "    Computes the temperature of a galaxy cluster given its mass and redshift,\n",
    "    using the M-T scaling relation by Arnaud et al. (2005).\n",
    "    \n",
    "    Args:\n",
    "    - M (float): mass of the cluster in solar masses\n",
    "    - z (float): redshift of the cluster\n",
    "    - A (float): scaling factor (default: 3.79e14 Msol)\n",
    "    - B (float): scaling index (default: 1.64)\n",
    "    \n",
    "    Returns:\n",
    "    - T (float): temperature of the cluster in keV\n",
    "    \"\"\"\n",
    "    E_z = np.sqrt(0.3*(1+z)**3 + 0.7)\n",
    "    T = 5*(M/(A*E_z**0.5))**(1/B)\n",
    "    return T\n",
    "tt=T_M_relation(mm*1e15,red)\n",
    "tt"
   ]
  },
  {
   "cell_type": "code",
   "execution_count": 188,
   "id": "bb864ed1",
   "metadata": {},
   "outputs": [],
   "source": [
    "Tobs =np.array([9.8,7.65,6.70,10.50,6.9,7.95,8.30])\n"
   ]
  },
  {
   "cell_type": "code",
   "execution_count": 189,
   "id": "5cbb8924",
   "metadata": {},
   "outputs": [
    {
     "data": {
      "text/plain": [
       "Text(0.5, 0, 'Mass of the cluster')"
      ]
     },
     "execution_count": 189,
     "metadata": {},
     "output_type": "execute_result"
    },
    {
     "data": {
      "image/png": "[encoded data removed]",
      "text/plain": [
       "<Figure size 864x864 with 1 Axes>"
      ]
     },
     "metadata": {
      "needs_background": "light"
     },
     "output_type": "display_data"
    }
   ],
   "source": [
    "plt.figure(figsize=(12,12))\n",
    "plt.title('Mass-Temprature scaling relation (Using Arnaud 2005)',fontsize=18)\n",
    "plt.plot(mm*1e15,tt, color='black', linestyle='none', linewidth = 2, marker='.', markerfacecolor='green', markersize=12)\n",
    "plt.ylabel('Temprature in keV')\n",
    "plt.xlabel('Mass of the cluster')"
   ]
  },
  {
   "cell_type": "raw",
   "id": "dddbd9d0",
   "metadata": {},
   "source": [
    "Using Chui.el.2022"
   ]
  },
  {
   "cell_type": "code",
   "execution_count": 190,
   "id": "64aed14f",
   "metadata": {},
   "outputs": [
    {
     "data": {
      "image/png": "[encoded data removed]",
      "text/plain": [
       "<Figure size 432x288 with 1 Axes>"
      ]
     },
     "metadata": {
      "needs_background": "light"
     },
     "output_type": "display_data"
    }
   ],
   "source": [
    "plt.plot(mm*1e15,tt,'o')\n",
    "plt.plot(mm*1e15,Tobs,'.')\n",
    "\n",
    "uncertainties = np.array([0.2, 0.8,0.02,.34,.21,0.4,0.3])  # Uncertainties associated with the temperatures\n",
    "plt.errorbar(mm*1e15, Tobs, yerr=uncertainties, fmt='o', capsize=3)\n",
    "plt.xlabel(\"Data Point\")\n",
    "plt.ylabel(\"Temperature (keV)\")\n",
    "plt.title(\"Observed Temperatures with Uncertainties\")\n",
    "\n",
    "plt.show()\n"
   ]
  },
  {
   "cell_type": "markdown",
   "id": "8ffb6a31",
   "metadata": {},
   "source": [
    "# # same relation using the Bulbul.el.19 paper"
   ]
  },
  {
   "cell_type": "code",
   "execution_count": 191,
   "id": "50f73a7c",
   "metadata": {},
   "outputs": [],
   "source": [
    "Om0=0.307115\n",
    "Ode0=0.692885\n",
    "Omega_k=0\n",
    "z_piv= 0.269727\n",
    "E(z_piv)\n",
    "z_piv= 0.269727\n",
    "M_piv= 1.53e15"
   ]
  },
  {
   "cell_type": "code",
   "execution_count": 192,
   "id": "c6337d50",
   "metadata": {},
   "outputs": [],
   "source": [
    "E_z = np.sqrt(0.3*(1+z)**3 + 0.7)\n",
    "E_z_piv = np.sqrt(0.3*(1+z_piv)**3 + 0.7)"
   ]
  },
  {
   "cell_type": "code",
   "execution_count": 193,
   "id": "edc1fe5b",
   "metadata": {},
   "outputs": [
    {
     "data": {
      "text/plain": [
       "<ErrorbarContainer object of 3 artists>"
      ]
     },
     "execution_count": 193,
     "metadata": {},
     "output_type": "execute_result"
    },
    {
     "data": {
      "image/png": "[encoded data removed]",
      "text/plain": [
       "<Figure size 432x288 with 1 Axes>"
      ]
     },
     "metadata": {
      "needs_background": "light"
     },
     "output_type": "display_data"
    }
   ],
   "source": [
    "TT=bulbul19(Obs,8.41, 2.99, 2.36)\n",
    "uncertainties = np.array([0.8, 0.8,1.0,5,.21,0.4,0.3]) \n",
    "plt.plot(M_500, TT,'o')\n",
    "plt.errorbar(M_500, TT, yerr=uncertainties, fmt='o', capsize=3)\n",
    "\n",
    " # Uncertainties associated with the temperatures\n"
   ]
  },
  {
   "cell_type": "code",
   "execution_count": 194,
   "id": "f7abcbe2",
   "metadata": {},
   "outputs": [
    {
     "data": {
      "text/plain": [
       "(6.3137527575689925, -0.5282806886762306, -0.3333436868919365)"
      ]
     },
     "execution_count": 194,
     "metadata": {},
     "output_type": "execute_result"
    }
   ],
   "source": [
    "Ax= 6.41\n",
    "Bx= 0.80\n",
    "cx= -0.36\n",
    "Obs =M_500,z\n",
    "E(z)\n",
    "def bulbul19(Obs,Ax,Bx,cx):\n",
    "    M_500, z=Obs\n",
    "    z_piv= 0.269727\n",
    "    M_piv= 1.53e15\n",
    "    return (Ax * (M_500 / M_piv)**Bx )*(E_z / E_z_piv)**(2/3)*(1 + z / (1 + z_piv)**cx)\n",
    "\n",
    "p0 = [8.41, 0.80, -0.36]  # Initial guess for parameters\n",
    "\n",
    "# Perform the fitting process\n",
    "popt,pcov=curve_fit(bulbul19, (M_500,z),Tobs, p0=p0)\n",
    "\n",
    "#  get the best-fit parameters\n",
    "Ax_fit, Bx_fit, cx_fit = popt\n",
    "# Evaluate the fit\n",
    "T_x_fit_bulbul19 = bulbul19(Obs, Ax_fit, Bx_fit, cx_fit)\n",
    "\n",
    "Ax_fit, Bx_fit, cx_fit"
   ]
  },
  {
   "cell_type": "code",
   "execution_count": 195,
   "id": "bba99626",
   "metadata": {},
   "outputs": [
    {
     "data": {
      "text/plain": [
       "<matplotlib.colorbar.Colorbar at 0x7f7f4bcabf10>"
      ]
     },
     "execution_count": 195,
     "metadata": {},
     "output_type": "execute_result"
    },
    {
     "data": {
      "image/png": "[encoded data removed]",
      "text/plain": [
       "<Figure size 432x288 with 2 Axes>"
      ]
     },
     "metadata": {
      "needs_background": "light"
     },
     "output_type": "display_data"
    }
   ],
   "source": [
    "import seaborn as sns\n",
    "import matplotlib.pyplot as plt\n",
    "\n",
    "\n",
    "points = plt.scatter(M_500, Tobs, s=75, cmap=\"BuGn\")\n",
    "plt.colorbar(points)\n",
    "\n"
   ]
  },
  {
   "cell_type": "code",
   "execution_count": 196,
   "id": "e0eb0e79",
   "metadata": {},
   "outputs": [
    {
     "data": {
      "text/plain": [
       "array([3.51119173e+14, 4.11666431e+14, 2.31012970e+14, 1.31825674e+14,\n",
       "       1.25366591e+14, 4.62865216e+14, 3.72313763e+14, 2.10686333e+14])"
      ]
     },
     "execution_count": 196,
     "metadata": {},
     "output_type": "execute_result"
    }
   ],
   "source": [
    "mas"
   ]
  },
  {
   "cell_type": "code",
   "execution_count": 197,
   "id": "85707308",
   "metadata": {},
   "outputs": [
    {
     "data": {
      "text/plain": [
       "array([15.24118968,  9.32848937,  7.03347278,  4.59477396,  4.30489204,\n",
       "        3.81181729,  2.80007595,  1.88569608])"
      ]
     },
     "execution_count": 197,
     "metadata": {},
     "output_type": "execute_result"
    }
   ],
   "source": [
    "temp"
   ]
  },
  {
   "cell_type": "code",
   "execution_count": 199,
   "id": "30efe191",
   "metadata": {},
   "outputs": [
    {
     "data": {
      "text/plain": [
       "[<matplotlib.lines.Line2D at 0x7f7f4bbe4820>]"
      ]
     },
     "execution_count": 199,
     "metadata": {},
     "output_type": "execute_result"
    },
    {
     "data": {
      "image/png": "[encoded data removed]",
      "text/plain": [
       "<Figure size 432x288 with 1 Axes>"
      ]
     },
     "metadata": {
      "needs_background": "light"
     },
     "output_type": "display_data"
    }
   ],
   "source": [
    "plt.plot(M_500,z,'^')"
   ]
  },
  {
   "cell_type": "code",
   "execution_count": 200,
   "id": "7fceb80f",
   "metadata": {},
   "outputs": [
    {
     "data": {
      "image/png": "[encoded data removed]",
      "text/plain": [
       "<Figure size 432x288 with 2 Axes>"
      ]
     },
     "metadata": {
      "needs_background": "light"
     },
     "output_type": "display_data"
    }
   ],
   "source": [
    "import matplotlib.pyplot as plt\n",
    "\n",
    "# Assuming you have your temperature and mass data stored in the variables T_x_fit_TM and M_500\n",
    "# Also assuming you have the variable 'z' representing the other variable\n",
    "\n",
    "plt.scatter(M_500, T_x_fit_TM, c=z)  # Use scatter plot instead of plot for color mapping\n",
    "plt.plot(mas,temp,'o')\n",
    "plt.plot(M_500,T_x_fit_bulbul19,'*' )\n",
    "#plt.plot(M_500, Tobs,'o')\n",
    "plt.plot(M_500,z,'^')\n",
    "\n",
    "\n",
    "plt.xlabel('Mass (M_500)')\n",
    "plt.ylabel('Temperature (T_x_fit_TM)')\n",
    "plt.title('Temperature vs. Mass')\n",
    "\n",
    "# Add color bar\n",
    "cbar = plt.colorbar()\n",
    "cbar.set_label('z')  # Set label for the color bar\n",
    "\n",
    "#plt.grid(True)\n",
    "plt.loglog()\n",
    "#plt.xlim(1e13,1.5e15)\n",
    "#plt.ylim(1e0,18)\n",
    "\n",
    "plt.show()\n"
   ]
  },
  {
   "cell_type": "code",
   "execution_count": 202,
   "id": "92c6b98a",
   "metadata": {},
   "outputs": [
    {
     "name": "stdout",
     "output_type": "stream",
     "text": [
      "Optimized parameter values: [ 6.31374896 -0.52828193 -0.33335384]\n"
     ]
    }
   ],
   "source": [
    "# By using least square\n",
    "def objective(params, M500, z, Tx_observed):\n",
    "    Ax, Bx, cx= params\n",
    "    Tx_predicted = (Ax * (M500 / M_piv)**Bx) * ((E_z / E_z_piv)**(2/3)) * (1 + z / (1 + z_piv)**cx)\n",
    "    residuals = Tx_observed - Tx_predicted\n",
    "    return residuals\n",
    "\n",
    "# Generate some example data\n",
    "M_500   # example values of M500\n",
    "z  # example values of z\n",
    "Tobs # example observed temperatures\n",
    "\n",
    "# Set initial guesses for the parameter values\n",
    "initial_params = [1.0, 0.5, 0.2]  # example initial parameter values\n",
    "\n",
    "# Perform the nonlinear least squares fitting\n",
    "result = least_squares(objective, initial_params, args=(M_500, z, Tobs))\n",
    "\n",
    "# Retrieve the optimized parameter values\n",
    "optimized_params = result.x\n",
    "print(\"Optimized parameter values:\", optimized_params)\n"
   ]
  },
  {
   "cell_type": "code",
   "execution_count": 203,
   "id": "4d3f7502",
   "metadata": {},
   "outputs": [],
   "source": [
    "    Tx_predicted = (Ax * (M_500 / M_piv)**Bx) * ((E_z / E_z_piv)**(2/3)) * (1 + z / (1 + z_piv)**cx)\n"
   ]
  },
  {
   "cell_type": "code",
   "execution_count": 204,
   "id": "8683136e",
   "metadata": {},
   "outputs": [
    {
     "name": "stdout",
     "output_type": "stream",
     "text": [
      "Optimized parameter values: [ 6.31374986 -0.52828181 -0.3333513 ]\n"
     ]
    }
   ],
   "source": [
    "# using Maximum liklihood technique\n",
    "\n",
    "import numpy as np\n",
    "from scipy.optimize import minimize\n",
    "\n",
    "# Define the log-likelihood function\n",
    "def log_likelihood(params, M500, z, Tx_observed):\n",
    "    Ax, Bx, cx= params\n",
    "    Tx_predicted = (Ax * (M_500 / M_piv)**Bx) * ((E_z / E_z_piv)**(2/3)) * (1 + z / (1 + z_piv)**cx)\n",
    "    residuals = Tobs - Tx_predicted\n",
    "    sigma = np.std(residuals)  # Estimate the standard deviation of the residuals\n",
    "    log_likelihood = -0.5 * np.sum((residuals / sigma)**2 + np.log(2 * np.pi * sigma**2))\n",
    "    return log_likelihood\n",
    "\n",
    "\n",
    "# Set initial guesses for the parameter values\n",
    "initial_params = [1.0, 0.5, 0.2]  # example initial parameter values\n",
    "\n",
    "# Define the negative log-likelihood function (to be minimized)\n",
    "def negative_log_likelihood(params):\n",
    "    return -log_likelihood(params, M_500, z, Tobs)\n",
    "\n",
    "# Perform maximum likelihood estimation\n",
    "result = minimize(negative_log_likelihood, initial_params)\n",
    "\n",
    "# Retrieve the optimized parameter values\n",
    "optimized_params = result.x\n",
    "print(\"Optimized parameter values:\", optimized_params)\n"
   ]
  },
  {
   "cell_type": "markdown",
   "id": "e20e719b",
   "metadata": {},
   "source": [
    "# $T_x = \\exp\\left(\\ln A_{\\text{Tx}} + \\left([ B_{\\text{Tx}} + c_{\\text{Tx}} \\cdot (\\frac{1+z}{1+z_{\\text{piv}})}] \\right) \\cdot \\ln \\frac{M_{500}}{M_{\\text{piv}}} + B \\cdot \\ln \\frac{E_z}{E_{z_{\\text{piv}}}} + y_{\\text{Tx}} \\cdot \\ln (\\frac{1+z}{1+z_{\\text{piv}}}) \\right)$"
   ]
  },
  {
   "cell_type": "code",
   "execution_count": 205,
   "id": "5efd788c",
   "metadata": {},
   "outputs": [
    {
     "data": {
      "text/plain": [
       "(6.3137527575689925, -0.5282806886762306, -0.3333436868919365)"
      ]
     },
     "execution_count": 205,
     "metadata": {},
     "output_type": "execute_result"
    }
   ],
   "source": [
    "Ax= 6.41\n",
    "Bx= 0.80\n",
    "cx= -0.36\n",
    "Obs =M_500,z\n",
    "\n",
    "def bulbul19(Obs,Ax,Bx,cx):\n",
    "    M_500, z=Obs\n",
    "    z_piv= 0.269727\n",
    "    M_piv= 1.53e15\n",
    "    return (Ax * (M_500 / M_piv)**Bx )*((E_z / E_z_piv)**(2/3))*(1 + z / (1 + z_piv)**cx)\n",
    "\n",
    "p0 = [8.41, 0.80, -0.36]  # Initial guess for parameters\n",
    "\n",
    "# Perform the fitting process\n",
    "popt,pcov=curve_fit(bulbul19, (M_500,z),Tobs, p0=p0)\n",
    "\n",
    "#  get the best-fit parameters\n",
    "Ax_fit, Bx_fit, cx_fit = popt\n",
    "# Evaluate the fit\n",
    "T_x_fit_bulbul19 = bulbul19(Obs, Ax_fit, Bx_fit, cx_fit)\n",
    "\n",
    "Ax_fit, Bx_fit, cx_fit"
   ]
  },
  {
   "cell_type": "code",
   "execution_count": 206,
   "id": "9f125c45",
   "metadata": {},
   "outputs": [
    {
     "data": {
      "text/plain": [
       "(3.594607693157528, 2.9675627097114408, -8.679680991220142, 1.9894373931619087)"
      ]
     },
     "execution_count": 206,
     "metadata": {},
     "output_type": "execute_result"
    }
   ],
   "source": [
    "# parameters from the paper\n",
    "#A_Tx = 4.27\n",
    "#B_Tx = 0.65\n",
    "#c_Tx = -0.02\n",
    "#y_Tx = -1.03\n",
    "#M_piv = 1.5374e15\n",
    "#z_piv = 0.269727222246006\n",
    "z=red\n",
    "E_z = np.sqrt(0.3*(1+z)**3 + 0.7)\n",
    "E_z_piv = np.sqrt(0.3*(1+z_piv)**3 + 0.7)\n",
    "\n",
    "\n",
    "def TM(Obs, A_Tx,B_Tx, c_Tx,  y_Tx):\n",
    "    \"\"\"paper : https://arxiv.org/abs/2107.05652 \n",
    "    \"\"\"\n",
    "    return np.exp((ln(A_Tx) + (B_Tx + c_Tx * ln(1+z/1+z_piv)) * ln(M_500/M_piv) + 2/3 * ln(E_z/E_z_piv) + y_Tx * ln(1+z/1+z_piv)) )   \n",
    "\n",
    "p0 = [3.41, 0.65, -0.02,-1.03]  # Initial guess for parameters\n",
    "\n",
    "# Perform the fitting process\n",
    "popt,pcov=curve_fit(TM, (M_500,z),Tobs, p0=p0) \n",
    "\n",
    "#  get the best-fit parameters\n",
    "Ax_fit, Bx_fit, cx_fit,yx_fit = popt\n",
    "# Evaluate the fit\n",
    "T_x_fit_TM = TM(Obs, Ax_fit, Bx_fit, cx_fit,yx_fit)\n",
    "\n",
    "Ax_fit, Bx_fit, cx_fit,yx_fit\n"
   ]
  },
  {
   "cell_type": "code",
   "execution_count": 207,
   "id": "33e5443c",
   "metadata": {},
   "outputs": [
    {
     "data": {
      "text/plain": [
       "(array([ 3.59460769,  2.96756271, -8.67968099,  1.98943739]),\n",
       " array([[  2.86655759,  -7.32097879,  18.38485433,  -2.0042168 ],\n",
       "        [ -7.32097879,  25.84069114, -63.99064406,   5.38221199],\n",
       "        [ 18.38485433, -63.99064406, 158.79050786, -13.48425508],\n",
       "        [ -2.0042168 ,   5.38221199, -13.48425508,   1.41855154]]))"
      ]
     },
     "execution_count": 207,
     "metadata": {},
     "output_type": "execute_result"
    }
   ],
   "source": [
    "curve_fit(TM, (M_500,z),Tobs, p0=p0)"
   ]
  },
  {
   "cell_type": "code",
   "execution_count": 208,
   "id": "d11eb2c4",
   "metadata": {},
   "outputs": [
    {
     "data": {
      "text/plain": [
       "array([ 9.51416902,  7.13518736,  7.44966733, 10.44227796,  7.30686643,\n",
       "        8.55125832,  7.39326571])"
      ]
     },
     "execution_count": 208,
     "metadata": {},
     "output_type": "execute_result"
    }
   ],
   "source": [
    "Tchiu= TM(Obs,3.594607693157528, 2.9675627097114408, -8.679680991220142, 1.9894373931619087)\n",
    "Tchiu"
   ]
  },
  {
   "cell_type": "code",
   "execution_count": 209,
   "id": "b666c583",
   "metadata": {},
   "outputs": [
    {
     "data": {
      "text/plain": [
       "(1.0, 18)"
      ]
     },
     "execution_count": 209,
     "metadata": {},
     "output_type": "execute_result"
    },
    {
     "data": {
      "image/png": "[encoded data removed]",
      "text/plain": [
       "<Figure size 432x288 with 1 Axes>"
      ]
     },
     "metadata": {
      "needs_background": "light"
     },
     "output_type": "display_data"
    }
   ],
   "source": [
    "plt.plot(M_500,T_x_fit_TM,'o')\n",
    "plt.plot(M_500, Tobs,'.')\n",
    "plt.loglog()\n",
    "plt.xlim(1e13,1.5e1)\n",
    "plt.ylim(1e0,18)\n",
    "\n"
   ]
  },
  {
   "cell_type": "markdown",
   "id": "24beedf0",
   "metadata": {},
   "source": [
    "# Luminosity Mass Redshift scaling relation"
   ]
  },
  {
   "cell_type": "markdown",
   "id": "59766d17",
   "metadata": {},
   "source": [
    "# $L_x = \\left( A_{\\text{Tx}} + 1e44 \\cdot \\left[ B_{\\text{Tx}} + c_{\\text{Tx}} \\cdot \\frac{1+z}{1+z_{\\text{piv}}} \\right] \\right) \\cdot \\frac{M_{500}}{M_{\\text{piv}}} + B \\cdot \\frac{E_z}{E_{z_{\\text{piv}}}} + y_{\\text{Lx}} \\cdot( \\frac{1+z}{1+z_{\\text{piv}}})$\n"
   ]
  },
  {
   "cell_type": "code",
   "execution_count": 210,
   "id": "6cb82da4",
   "metadata": {},
   "outputs": [
    {
     "data": {
      "text/plain": [
       "(3.594607693157528, 2.9675627097114408, -8.679680991220142, 1.9894373931619087)"
      ]
     },
     "execution_count": 210,
     "metadata": {},
     "output_type": "execute_result"
    }
   ],
   "source": [
    "\n",
    "def TM(Obs, A_Tx,B_Tx, c_Tx,  y_Tx):\n",
    "    \"\"\"paper : https://arxiv.org/abs/2107.05652 \n",
    "    \"\"\"\n",
    "    return np.exp((ln(A_Tx) + (B_Tx + c_Tx * ln(1+z/1+z_piv)) * ln(M_500/M_piv) + 2/3 * ln(E_z/E_z_piv) + y_Tx * ln(1+z/1+z_piv)) )   \n",
    "\n",
    "p0 = [3.41, 0.65, -0.02,-1.03]  # Initial guess for parameters\n",
    "\n",
    "# Perform the fitting process\n",
    "popt,pcov=curve_fit(TM, (M_500,z),Tobs, p0=p0) \n",
    "\n",
    "#  get the best-fit parameters\n",
    "Ax_fit, Bx_fit, cx_fit,yx_fit = popt\n",
    "# Evaluate the fit\n",
    "T_x_fit_TM = TM(Obs, Ax_fit, Bx_fit, cx_fit,yx_fit)\n",
    "\n",
    "Ax_fit, Bx_fit, cx_fit,yx_fit"
   ]
  },
  {
   "cell_type": "code",
   "execution_count": 211,
   "id": "b89bef47",
   "metadata": {},
   "outputs": [
    {
     "data": {
      "text/plain": [
       "(array([1.06878012e+15, 1.89125825e+15, 1.31374892e+15, 1.69432357e+15,\n",
       "        1.78222543e+15, 1.53607715e+15, 1.47585851e+15]),\n",
       " array([0.22579845, 0.25255689, 0.17362493, 0.54474091, 0.23189752,\n",
       "        0.27671194, 0.18275993]))"
      ]
     },
     "execution_count": 211,
     "metadata": {},
     "output_type": "execute_result"
    }
   ],
   "source": [
    "Obs"
   ]
  },
  {
   "cell_type": "code",
   "execution_count": 212,
   "id": "33912bc5",
   "metadata": {},
   "outputs": [
    {
     "data": {
      "text/plain": [
       "(0.01899225076852756, 231.6944125161894, -508.4911643558727, 17.00192903614348)"
      ]
     },
     "execution_count": 212,
     "metadata": {},
     "output_type": "execute_result"
    }
   ],
   "source": [
    "def Lx_M500_z(Obs,A_Lx,B_Lx,c_Lx,y_Lx):\n",
    "    \"\"\"\n",
    "    paper : https://arxiv.org/abs/2107.05652 \n",
    "    \"\"\"\n",
    "    return np.exp(ln(A_Lx) + ln(1e44)+((B_Lx) + c_Lx* ln(1+z/1+z_piv))* ln(M_500/M_piv) *2 * ln(E_z/E_z_piv) + y_Lx * ln(1+z/1+z_piv)    )\n",
    "\n",
    "p0 = [3.36, 1.44, -0.07,-0.51]  # Initial guess for parameters\n",
    "\n",
    "# Perform the fitting process\n",
    "popt1,pcov1=curve_fit(Lx_M500_z, (M_500,z),Lx, p0=p0) \n",
    "\n",
    "#  get the best-fit parameters\n",
    "A_Lx_fit, B_Lx_fit, c_Lx_fit,y_Lx_fit = popt1\n",
    "# Evaluate the fit\n",
    "L_x_fit = Lx_M500_z(Obs,A_Lx_fit, B_Lx_fit, c_Lx_fit,y_Lx_fit)\n",
    "\n",
    "A_Lx_fit, B_Lx_fit, c_Lx_fit,y_Lx_fit"
   ]
  },
  {
   "cell_type": "code",
   "execution_count": 213,
   "id": "5e84467d",
   "metadata": {},
   "outputs": [
    {
     "name": "stdout",
     "output_type": "stream",
     "text": [
      "Optimized parameter values: [ 1.90786962e-02  2.31530240e+02 -5.08118641e+02  1.69911678e+01]\n"
     ]
    }
   ],
   "source": [
    "# Define the log-likelihood function\n",
    "def log_likelihood(params, M500, z, Lx):\n",
    "    A_Lx,B_Lx,c_Lx,y_Lx= params\n",
    "    Lx_predicted = np.exp(ln(A_Lx) + ln(1e44)+((B_Lx) + c_Lx* ln(1+z/1+z_piv))* ln(M_500/M_piv) *2 * ln(E_z/E_z_piv) + y_Lx * ln(1+z/1+z_piv)    )\n",
    "    residuals = Lx - Lx_predicted\n",
    "    sigmas = np.std(residuals)  # Estimate the standard deviation of the residuals\n",
    "    log_likelihood = -0.5 * np.sum((residuals / sigmas)**2 + np.log(2 * np.pi * sigmas**2))\n",
    "    return log_likelihood\n",
    "\n",
    "\n",
    "# Set initial guesses for the parameter values\n",
    "initial_params = [3.36, 1.44, -0.07,-0.51]   # example initial parameter values\n",
    "\n",
    "# Define the negative log-likelihood function (to be minimized)\n",
    "def negative_log_likelihood(params):\n",
    "    return -log_likelihood(params, M_500, z, Lx)\n",
    "\n",
    "# Perform maximum likelihood estimation\n",
    "results = minimize(negative_log_likelihood, initial_params)\n",
    "\n",
    "# Retrieve the optimized parameter values\n",
    "optimized_params = results.x\n",
    "print(\"Optimized parameter values:\", optimized_params)\n"
   ]
  },
  {
   "cell_type": "code",
   "execution_count": 214,
   "id": "2684a910",
   "metadata": {},
   "outputs": [
    {
     "data": {
      "text/plain": [
       "Text(0.5, 0, 'Mass of the cluster  [M_500]')"
      ]
     },
     "execution_count": 214,
     "metadata": {},
     "output_type": "execute_result"
    },
    {
     "data": {
      "image/png": "[encoded data removed]",
      "text/plain": [
       "<Figure size 864x864 with 1 Axes>"
      ]
     },
     "metadata": {
      "needs_background": "light"
     },
     "output_type": "display_data"
    }
   ],
   "source": [
    "plt.figure(figsize=(12,12))\n",
    "plt.plot(M_500, Lx,'.')\n",
    "plt.plot(M_500, L_x_fit,'o')\n",
    "plt.ylabel('Xray luminosity of the cluster [Lx]')\n",
    "plt.xlabel('Mass of the cluster  [M_500]')"
   ]
  },
  {
   "cell_type": "markdown",
   "id": "85a8d162",
   "metadata": {},
   "source": [
    "# Mass concentration scaling relation"
   ]
  },
  {
   "cell_type": "code",
   "execution_count": 215,
   "id": "0a8dfaa1",
   "metadata": {},
   "outputs": [
    {
     "data": {
      "text/plain": [
       "array([4.73942122, 4.92356243, 4.82405494, 4.96252077, 4.89748836,\n",
       "       4.82191362, 4.84772939])"
      ]
     },
     "execution_count": 215,
     "metadata": {},
     "output_type": "execute_result"
    },
    {
     "data": {
      "image/png": "[encoded data removed]",
      "text/plain": [
       "<Figure size 864x864 with 1 Axes>"
      ]
     },
     "metadata": {
      "needs_background": "light"
     },
     "output_type": "display_data"
    }
   ],
   "source": [
    "import numpy as np\n",
    "import  colossus\n",
    "from colossus.cosmology import cosmology\n",
    "from colossus.halo import concentration\n",
    "\n",
    "# Set the cosmology\n",
    "cosmo = cosmology.setCosmology('planck18')\n",
    "\n",
    "mass=mm*1e15\n",
    "# Calculate concentrations for each mass-redshift pair\n",
    "c = np.array([concentration.concentration(mass, 'vir', red, model='diemer19') for mass,red in zip(mass, red)])\n",
    "plt.figure(figsize=(12,12))\n",
    "plt.plot(mass,c,'o')\n",
    "c\n"
   ]
  },
  {
   "cell_type": "markdown",
   "id": "4444c9b3",
   "metadata": {},
   "source": [
    "# Richness Mass- redshift scaling  relation"
   ]
  },
  {
   "cell_type": "markdown",
   "id": "20dd21c9",
   "metadata": {},
   "source": [
    "# $\\lambda = \\exp(A_{\\lambda}) + \\left[ B_{\\lambda} + \\sigma_{\\lambda} \\left ( \\frac{1+z}{1+z_{\\text{piv}}} \\right) \\right] \\cdot \\frac{M_{500}}{M_{\\text{piv}}} + \\gamma_{\\lambda} \\left ( \\frac{1+z}{1+z_{\\text{piv}}} \\right)$"
   ]
  },
  {
   "cell_type": "code",
   "execution_count": 216,
   "id": "6573f5c8",
   "metadata": {},
   "outputs": [],
   "source": [
    "rich=np.array([  72,114.096 ,58,46.900, 71.65 ,41.90,71.5])\n"
   ]
  },
  {
   "cell_type": "code",
   "execution_count": 217,
   "id": "d2715f99",
   "metadata": {},
   "outputs": [
    {
     "data": {
      "text/plain": [
       "(290.70850439918905,\n",
       " -3.4128115749268004,\n",
       " 11.550493109311638,\n",
       " -3.5499801950852845)"
      ]
     },
     "execution_count": 217,
     "metadata": {},
     "output_type": "execute_result"
    }
   ],
   "source": [
    "# richness mass z scaling relation \n",
    "def richness_mass_z(Obs,A_lambda,B_lambda,sigma_lambda,gamma_lambda):\n",
    "    return np.exp(ln(A_lambda)  + (B_lambda+(sigma_lambda)* ln(1+z/1+z_piv))* ln(M_500/M_piv) +gamma_lambda* ln(1+z/1+z_piv)\n",
    ")\n",
    "\n",
    "p0 = [36.2, 0.881, -0.56,-0.46]  # Initial guess for parameters\n",
    "\n",
    "# Perform the fitting process\n",
    "popt1,pcov1=curve_fit(richness_mass_z, (M_500,z),rich, p0=p0) \n",
    "\n",
    "#  get the best-fit parameters\n",
    "A_lambda_fit,B_lambda_fit,sigma_lambda_fit,gamma_lambda_fit = popt1\n",
    "# Evaluate the fit\n",
    "rich_fit = richness_mass_z(Obs,A_lambda_fit,B_lambda_fit,sigma_lambda_fit,gamma_lambda_fit)\n",
    "\n",
    "A_lambda_fit,B_lambda_fit,sigma_lambda_fit,gamma_lambda_fit"
   ]
  },
  {
   "cell_type": "code",
   "execution_count": 28,
   "id": "b6c10243",
   "metadata": {},
   "outputs": [
    {
     "data": {
      "text/plain": [
       "(array([44.7064388 , 88.76562281, 69.66832689, 49.95643726, 83.50168756,\n",
       "        62.24776131, 74.79980162]),\n",
       " array([ 72.   , 114.096,  58.   ,  46.9  ,  71.65 ,  41.9  ,  71.5  ]))"
      ]
     },
     "execution_count": 28,
     "metadata": {},
     "output_type": "execute_result"
    }
   ],
   "source": [
    "rich_fit,rich"
   ]
  },
  {
   "cell_type": "code",
   "execution_count": 29,
   "id": "0cd15273",
   "metadata": {},
   "outputs": [
    {
     "name": "stdout",
     "output_type": "stream",
     "text": [
      "Optimized parameter values: [290.68834528  -3.41245387  11.54965006  -3.54980592]\n"
     ]
    }
   ],
   "source": [
    "# richness mass z scaling relation \n",
    "def richness_mass_z(M_500,z,A_lambda,B_lambda,sigma_lambda,gamma_lambda):\n",
    "    return np.exp(ln(A_lambda)  + (B_lambda+(sigma_lambda)* ln(1+z/1+z_piv))* ln(M_500/M_piv) +gamma_lambda* ln(1+z/1+z_piv)\n",
    ")\n",
    "\n",
    "# Define the log-likelihood function\n",
    "def log_likelihood(params, M500, z, rich):\n",
    "    \n",
    "    A_lambda,B_lambda,sigma_lambda,gamma_lambda= params\n",
    "    rich_predicted = np.exp(ln(A_lambda)  + (B_lambda+(sigma_lambda)* ln(1+z/1+z_piv))* ln(M_500/M_piv) +gamma_lambda* ln(1+z/1+z_piv))\n",
    "    residuals= rich - rich_predicted\n",
    "    sig = np.std(residuals)  # Estimate the standard deviation of the residuals\n",
    "    log_likelihood = -0.5 * np.sum((residuals / sig)**2 + np.log(2 * np.pi * sig**2))\n",
    "    return log_likelihood\n",
    "\n",
    "# Set initial guesses for the parameter values\n",
    "initial_params = [36.2, 0.881, -0.56,-0.46]   # example initial parameter values\n",
    "\n",
    "# Define the negative log-likelihood function (to be minimized)\n",
    "def negative_log_likelihood(params):\n",
    "    return -log_likelihood(params, M_500, z,rich)\n",
    "\n",
    "# Perform maximum likelihood estimation\n",
    "resul = minimize(negative_log_likelihood, initial_params)\n",
    "\n",
    "# Retrieve the optimized parameter values\n",
    "optimized_params = resul.x\n",
    "print(\"Optimized parameter values:\", optimized_params)\n",
    "\n"
   ]
  },
  {
   "cell_type": "code",
   "execution_count": 30,
   "id": "25132ade",
   "metadata": {},
   "outputs": [
    {
     "data": {
      "text/plain": [
       "      fun: 29.891540617544138\n",
       " hess_inv: array([[ 1.05285496,  1.21077403, -1.32937368, -0.0787193 ],\n",
       "       [ 1.21077403,  1.42038   , -1.57455883, -0.1108555 ],\n",
       "       [-1.32937368, -1.57455883,  1.76259219,  0.11431517],\n",
       "       [-0.0787193 , -0.1108555 ,  0.11431517,  0.05735236]])\n",
       "      jac: array([-4.76837158e-07,  3.09944153e-06,  2.38418579e-06,  4.76837158e-07])\n",
       "  message: 'Optimization terminated successfully.'\n",
       "     nfev: 390\n",
       "      nit: 50\n",
       "     njev: 78\n",
       "   status: 0\n",
       "  success: True\n",
       "        x: array([290.68834528,  -3.41245387,  11.54965006,  -3.54980592])"
      ]
     },
     "execution_count": 30,
     "metadata": {},
     "output_type": "execute_result"
    }
   ],
   "source": [
    "resul"
   ]
  },
  {
   "cell_type": "code",
   "execution_count": 32,
   "id": "9f1bba73",
   "metadata": {},
   "outputs": [],
   "source": [
    "Om0=0.307115\n",
    "Ode0=0.692885"
   ]
  },
  {
   "cell_type": "markdown",
   "id": "87d5879d",
   "metadata": {},
   "source": [
    "#  mass - velocity dispersion relation"
   ]
  },
  {
   "cell_type": "code",
   "execution_count": 33,
   "id": "fb831b31",
   "metadata": {},
   "outputs": [],
   "source": [
    "h = 0.7\n",
    "Omega_L = 0.7\n",
    "Omega_M = 1 - Omega_L\n",
    "Omega_k = 0.\n"
   ]
  },
  {
   "cell_type": "code",
   "execution_count": 34,
   "id": "b9919149",
   "metadata": {},
   "outputs": [],
   "source": [
    "import scipy\n",
    "from scipy import integrate\n",
    "def E(z):\n",
    "    \"\"\"\n",
    "    Evolution factor E(z) at a given redshift.\n",
    "    \"\"\"\n",
    "    try:\n",
    "        return (Omega_M * (1+z)**3 + Omega_k * (1+z)**2 + Omega_L) ** 0.5\n",
    "    except AttributeError:\n",
    "        from uncertainties import unumpy\n",
    "        return unumpy.sqrt(Omega_M * (1+z)**3 + Omega_k * (1+z)**2 + Omega_L)\n",
    "\n",
    "def H(z, unit='default'):\n",
    "    \"\"\"\n",
    "    Hubble constant at a given redshift.\n",
    "    The units can be km·s⁻¹·Mpc⁻¹ ('default') or s⁻¹ ('s')\n",
    "    \"\"\"\n",
    "    if unit == 's':\n",
    "        return 100 * h * E(z) * (units.km / units.Mpc)\n",
    "    return 100 * h * E(z)\n",
    "\n",
    "def tH(z, unit='Gyr'):\n",
    "    \"\"\"\n",
    "    Hubble time at a given redshift.\n",
    "    The units can be 's', 'yr' or 'Gyr' (default unit='Gyr').\n",
    "    \"\"\"\n",
    "    f = lambda t: 1. / ((1. + t) * E(t))\n",
    "    i = integrate.quad(f, z, scipy.inf)[0]\n",
    "    if unit == 'Gyr':\n",
    "        return 1 / H(0, unit='s') * i / units.Gyr\n",
    "    if unit == 'yr':\n",
    "        return 1 / H(0, unit='s') * i / units.yr\n",
    "    if unit == 's':\n",
    "        return 1 / H(0, unit='s') * i\n",
    "def tHubble(z, unit='Gyr'):\n",
    "  \"\"\"\n",
    "  See cosmology.tH()\n",
    "  \"\"\"\n",
    "  return tH(z, unit)\n",
    "\n",
    "def lookback(z, unit='Gyr'):\n",
    "    \"\"\"\n",
    "    Lookback time at a given redshift.\n",
    "    The units can be 's', 'yr' or 'Gyr' (default units='Gyr').\n",
    "    \"\"\"\n",
    "    f = lambda t: 1. / ((1. + t) * E(t))\n",
    "    i = integrate.quad(f, 0., z, epsrel=1e-6, epsabs=0)[0]\n",
    "    if unit == 'Gyr':\n",
    "        return 1 / H(0, unit='s') * i / units.Gyr\n",
    "    if unit == 'yr':\n",
    "        return 1 / H(0, unit='s') * i / units.yr\n",
    "    if unit == 's':\n",
    "        return 1 / H(0, unit='s') * i\n",
    "\n",
    "def dH(z=0, unit='Mpc'):\n",
    "    \"\"\"\n",
    "    Hubble distance at a given redshift.\n",
    "    The units can be 'cm', 'ly', or 'Mpc' (default units='Mpc').\n",
    "    \"\"\"\n",
    "    if unit == 'Mpc':\n",
    "        return constants.c / H(z) / units.km\n",
    "    if unit == 'kpc':\n",
    "        return constants.c / H(z, unit='s') / units.kpc\n",
    "    if unit == 'cm':\n",
    "        return constants.c / H(z, unit='s')\n",
    "    if unit == 'm':\n",
    "        return constants.c / H(z, unit='s') / units.m\n",
    "    if unit == 'ly':\n",
    "        return constants.c / H(z, unit='s') / units.ly\n",
    "\n",
    "def dHubble(z=0, unit='Mpc'):\n",
    "    \"\"\"\n",
    "    See cosmology.dH()\n",
    "    \"\"\"\n",
    "    return dH(z, unit)\n",
    "\n",
    "def dC(z1, unit='Mpc', **kwargs):\n",
    "    \"\"\"\n",
    "    Comoving distance at a given redshift or betwen two redshifts.\n",
    "    The units can be 'cm', 'ly' or 'Mpc' (default units='Mpc').\n",
    "    \"\"\"\n",
    "    f = lambda t: 1 / E(t)\n",
    "    i = integrate.romberg(f, 0., z1, **kwargs)\n",
    "    return i * dH(0, unit)\n",
    "\n",
    "def dM(z, dist, input_unit='deg', unit='Mpc'):\n",
    "    \"\"\"\n",
    "    Transverse comoving distance at redshift z.\n",
    "\n",
    "    input_unit can be 'arcsec', 'arcmin', 'deg', or 'rad'\n",
    "    \"\"\"\n",
    "    if type(dist) in (list, tuple):\n",
    "        dist = scipy.array(dist)\n",
    "    if input_unit == 'arcsec':\n",
    "        dist /= 3600.\n",
    "        input_unit = 'deg'\n",
    "    if input_unit == 'arcmin':\n",
    "        dist /= 60\n",
    "        input_unit = 'deg'\n",
    "    if input_unit == 'deg':\n",
    "        dist *= scipy.pi / 180\n",
    "    if Omega_k == 0:\n",
    "        return dist * dC(z, unit)\n",
    "    elif Omega_k > 0:\n",
    "        return dist * dH / scipy.sqrt(Omega_k) * \\\n",
    "               scipy.sinh(scipy.sqrt(Omega_k) * dC(z, unit) / dH(0, unit))\n",
    "    else:\n",
    "        return dist * dH / scipy.sqrt(-Omega_k) * \\\n",
    "               scipy.sin(scipy.sqrt(Omega_k) * dC(z, unit) / dH(0, unit))\n",
    "\n",
    "def dA(z1, z2=0, unit='Mpc'):\n",
    "    \"\"\"\n",
    "    Returns the angular diameter distance between two redshifts (from zero to\n",
    "    z1, by default). If z2>0, then z2 should be greater than z1.\n",
    "\n",
    "    The units can be 'cm', 'ly' or 'Mpc' (default units='Mpc').\n",
    "    \"\"\"\n",
    "    if z2 == 0:\n",
    "        return dC(z1, unit) / (1 + z1)\n",
    "    elif Omega_k >= 0:\n",
    "        pseudo_dist = dC(z2, unit) * \\\n",
    "                         scipy.sqrt(1 + Omega_k * \\\n",
    "                                    (dC(z1, unit) / dH(0, unit)) ** 2)\n",
    "        pseudo_dist -= dC(z1, unit) * \\\n",
    "                       scipy.sqrt(1 + Omega_k * \\\n",
    "                                  (dC(z2, unit) / dH(0, unit)) ** 2)\n",
    "        return pseudo_dist / (1 + z2)\n",
    "    else:\n",
    "        msg = 'Angular Diameter Distance not implemented for values Omega_k < 0'\n",
    "        raise ValueError(msg)\n",
    "\n",
    "def dL(z, unit='Mpc'):\n",
    "    \"\"\"\n",
    "    Luminosity distance at a given redshift.\n",
    "    The units can be 'cm', 'ly' or 'Mpc' (default units='Mpc').\n",
    "    \"\"\"\n",
    "    return dC(z, unit) * (1 + z)"
   ]
  },
  {
   "cell_type": "code",
   "execution_count": 35,
   "id": "226708ca",
   "metadata": {},
   "outputs": [],
   "source": [
    "def E(z):\n",
    "    \"\"\"\n",
    "    Evolution factor E(z) at a given redshift.\n",
    "    \"\"\"\n",
    "    try:\n",
    "        return (Omega_M * (1+z)**3 + Omega_k * (1+z)**2 + Omega_L) ** 0.5\n",
    "    except AttributeError:\n",
    "        from uncertainties import unumpy\n",
    "        return unumpy.sqrt(Omega_M * (1+z)**3 + Omega_k * (1+z)**2 + Omega_L)"
   ]
  },
  {
   "cell_type": "code",
   "execution_count": 218,
   "id": "790587cd",
   "metadata": {},
   "outputs": [
    {
     "data": {
      "text/plain": [
       "1.0285217015965085"
      ]
     },
     "execution_count": 218,
     "metadata": {},
     "output_type": "execute_result"
    }
   ],
   "source": [
    "def sigma(s, z, ds=None, dz=None,\n",
    "          radius='200c', scaling='evrard08', bias=(1,0.),\n",
    "          zscaling=0, separate_errors=False):\n",
    "    \"\"\"\n",
    "        \n",
    "        evrard08 : Evrard et al. (2008), DM particles\n",
    "        lau10 : Lau, Nagai, & Kravtsov (2010), DM particles in hydro-\n",
    "                simulation with cooling and star formation (no AGN feedback)\n",
    "        munari13dm : Munari et al. (2013), DM particles in AGN simulation\n",
    "        munari13sub : Munari et al. (2013), DM subhalos in AGN simulation\n",
    "        munari13gal : Munari et al. (2013), galaxies in AGN simulation\n",
    "        munari13 : alias for munari13gal\n",
    "        saro13 : Saro et al. (2013), SAM galaxies\n",
    "        \n",
    "    @ Adapted from https://github.com/cristobal-sifon\n",
    "    \"\"\"\n",
    "\n",
    "    Ez = E(z)\n",
    "    # best-fit parameters from the scaling\n",
    "    if scaling == 'saro13':\n",
    "        def Mdyn(s, z, A, B, C):\n",
    "            return 1e15 * (s / (A * Ez**C)) ** B\n",
    "        A = ufloat(939., 0.55)\n",
    "        B = ufloat(2.91, 0.0021)\n",
    "        C = ufloat(0.33, 0.0019)\n",
    "        Msyst = Mdyn(s, z, A, B, C)\n",
    "        if ds is not None:\n",
    "            if type(s) == numpy.ndarray:\n",
    "                s = unumpy.uarray(s, ds)\n",
    "            else:\n",
    "                s = ufloat(s, ds)\n",
    "        if dz is not None:\n",
    "            if type(z) == numpy.ndarray:\n",
    "                z = unumpy.uarray(z, dz)\n",
    "            else:\n",
    "                z = ufloat(z, dz)\n",
    "        Mstat = Mdyn(s, z, A.nominal_value,\n",
    "                     B.nominal_value, C.nominal_value)\n",
    "        if ds:\n",
    "            if separate_errors:\n",
    "                if type(s) == numpy.ndarray:\n",
    "                    err = (numpy.array([M.std_dev for M in Mstat]),\n",
    "                           numpy.array([M.std_dev for M in Msyst]))\n",
    "                else:\n",
    "                    err = (Mstat.std_dev, Msyst.std_dev)\n",
    "            else:\n",
    "                if type(s) == numpy.ndarray:\n",
    "                    err = numpy.array([numpy.hypot(Mst.std_dev, Msy.std_dev) \\\n",
    "                                       for Mst, Msy in zip(Mstat, Msyst)])\n",
    "                else:\n",
    "                    err = numpy.hypot(Mstat.std_dev, Msyst.std_dev)\n",
    "            if type(s) == numpy.ndarray:\n",
    "                M = numpy.array([M.nominal_value for M in Msyst])\n",
    "            else:\n",
    "                M = Msys.nominal_value\n",
    "            return M, err\n",
    "        if type(s) == numpy.ndarray:\n",
    "            return numpy.array([M.nominal_value for M in Msyst])\n",
    "        return Msyst.nominal_value\n",
    "    # slope\n",
    "    A = {'200c': {'evrard08': (0.3361, 0.0026),\n",
    "                  'lau10': ((0.2724, 0.0149), # z = 0.0\n",
    "                            (0.2903, 0.0254), # z = 0.6\n",
    "                            (0.3232, 0.0153)), # z = 1.0\n",
    "                  'munari13dm': (0.336, 0.0015),\n",
    "                  'munari13sub': (0.365, 0.0017),\n",
    "                  'munari13gal': (0.364, 0.0021)},\n",
    "         '500c': {'lau10': ((0.2965, 0.0144), # z = 0.0\n",
    "                            (0.2888, 0.0180), # z = 0.6\n",
    "                            (0.3134, 0.0108))}} # z = 1.0\n",
    "    A['200c']['munari13'] = A['200c']['munari13gal']\n",
    "    # normalization\n",
    "    So = {'200c': {'evrard08': (1082.9, 4.0),\n",
    "                   'lau10': ((692., 11.), (674., 11.), (671., 8.)),\n",
    "                   'munari13dm': (1095., 4.4),\n",
    "                   'munari13sub': (1199., 5.2),\n",
    "                   'munari13gal': (1177., 4.2)},\n",
    "          '500c': {'lau10': ((788., 10.), (762., 9.), (771., 11.))}}\n",
    "    So['200c']['munari13'] = So['200c']['munari13gal']\n",
    "    # pivot mass\n",
    "    Mo = {'evrard08': 1e15, 'lau10': 2e14, 'munari13': 1e15}\n",
    "    Mo['munari13dm'] = Mo['munari13sub'] = Mo['munari13gal'] = Mo['munari13']\n",
    "    # now read\n",
    "    a = A[radius][scaling]\n",
    "    so = So[radius][scaling]\n",
    "    mo = Mo[scaling]\n",
    "    if scaling == 'lau10':\n",
    "        zval = [0.0, 0.6, 1.0]\n",
    "        i = zval.index(zscaling)\n",
    "        a, da = a[i]\n",
    "        so, dso = so[i]\n",
    "    else:\n",
    "        a, da = a\n",
    "        so, dso = so\n",
    "    try:\n",
    "        b, db = bias\n",
    "    except ValueError:\n",
    "        b = bias\n",
    "        db = 0.\n",
    "    m = mo / (h*Ez) * (b*s/so)**(1/a)\n",
    "    def err(s, z, dsi, dzi):\n",
    "        ## statistical:\n",
    "        # dM/dz\n",
    "        A = 3 * h * mo / (2*Ez**3) * (s/so)**(1/a) * (1+z)**2\n",
    "        # dM/ds\n",
    "        B = mo / (h*Ez) * (s/so) ** (1/a) / (a*s)\n",
    "        stat = numpy.hypot(A*dzi, B*dsi)\n",
    "        ## systematic:\n",
    "        # dM/dso\n",
    "        C = -mo / (h*Ez) * (s/so)**(1/a) / (a*so)\n",
    "        # dM/da\n",
    "        D = -mo / (h*Ez) * (s/so)**(1/a) * numpy.log(s/so) / a**2\n",
    "        # dM/db\n",
    "        E = m / (b*a)\n",
    "        syst = numpy.hypot(C*dso, numpy.hypot(D*da, E*db))\n",
    "        return numpy.array([stat, syst])\n",
    "\n",
    "    if ds is not None:\n",
    "        if dz is None:\n",
    "            dz = 0\n",
    "        try:\n",
    "            stat, syst = err(s, z, ds, dz)\n",
    "            if separate_errors:\n",
    "                return m, (stat, syst)\n",
    "        except TypeError:\n",
    "            st1, syst = err(s, z, ds[0], dz)\n",
    "            st2, syst = err(s, z, ds[1], dz)\n",
    "            if separate_errors:\n",
    "                return m, (st1, st2, syst)\n",
    "            else:\n",
    "                return m, (numpy.hypot(st1, syst), scipy.hypot(st2, syst))\n",
    "        return m, numpy.hypot(stat, syst)\n",
    "    else:\n",
    "        return m\n",
    "    \n",
    "sigma(1000,z_cl)/1e15"
   ]
  },
  {
   "cell_type": "code",
   "execution_count": 37,
   "id": "5285eea3",
   "metadata": {},
   "outputs": [],
   "source": [
    "vv=np.array([1202,842,802,1203,1023,1234,932])"
   ]
  },
  {
   "cell_type": "code",
   "execution_count": 38,
   "id": "03ea1522",
   "metadata": {},
   "outputs": [
    {
     "data": {
      "text/plain": [
       "array([1.74113389e+15, 5.95051102e+14, 5.37066492e+14, 1.45367526e+15,\n",
       "       1.07409515e+15, 1.83099325e+15, 8.35718788e+14])"
      ]
     },
     "execution_count": 38,
     "metadata": {},
     "output_type": "execute_result"
    }
   ],
   "source": [
    "sigma(vv,z)"
   ]
  },
  {
   "cell_type": "markdown",
   "id": "9d522564",
   "metadata": {},
   "source": [
    "# m200 -  r200 relation "
   ]
  },
  {
   "cell_type": "code",
   "execution_count": 39,
   "id": "643783a3",
   "metadata": {},
   "outputs": [
    {
     "data": {
      "text/plain": [
       "123000000000000.0"
      ]
     },
     "execution_count": 39,
     "metadata": {},
     "output_type": "execute_result"
    }
   ],
   "source": [
    "1.23e14"
   ]
  },
  {
   "cell_type": "code",
   "execution_count": 40,
   "id": "7e90a829",
   "metadata": {},
   "outputs": [
    {
     "data": {
      "text/plain": [
       "array([0.97105559, 0.96150951, 0.98953421, 0.85792857, 0.96888294,\n",
       "       0.95286759, 0.98631511])"
      ]
     },
     "execution_count": 40,
     "metadata": {},
     "output_type": "execute_result"
    }
   ],
   "source": [
    "# r200 using the mass of cluster\n",
    "import math\n",
    "\n",
    "# Define constants\n",
    "M = 1.23e14 * 1.99e30  # mass of cluster in kg from cant t Caustic method\n",
    "\n",
    "# critical density of the galaxy cluster as fxn of redshift\n",
    "rho_c=cosmos.critical_density(red)*1e3\n",
    "f = 200  # factor by which the critical density is multiplied to define r200\n",
    "\n",
    "# Calculate r200\n",
    "r200 = ((3 * M) / (4 * math.pi * rho_c * f))**(1/3)\n",
    "\n",
    "# Convert r200 to units of kpc\n",
    "r200_Mpc = ((r200 / 3.086e19)/1000).value\n",
    "\n",
    "r200_Mpc\n"
   ]
  },
  {
   "cell_type": "code",
   "execution_count": null,
   "id": "dbeecfc4",
   "metadata": {},
   "outputs": [],
   "source": []
  },
  {
   "cell_type": "code",
   "execution_count": null,
   "id": "e879382b",
   "metadata": {},
   "outputs": [],
   "source": []
  },
  {
   "cell_type": "code",
   "execution_count": null,
   "id": "404d8395",
   "metadata": {},
   "outputs": [],
   "source": []
  },
  {
   "cell_type": "code",
   "execution_count": null,
   "id": "a9e85c98",
   "metadata": {},
   "outputs": [],
   "source": []
  }
 ],
 "metadata": {
  "kernelspec": {
   "display_name": "Python 3 (ipykernel)",
   "language": "python",
   "name": "python3"
  },
  "language_info": {
   "codemirror_mode": {
    "name": "ipython",
    "version": 3
   },
   "file_extension": ".py",
   "mimetype": "text/x-python",
   "name": "python",
   "nbconvert_exporter": "python",
   "pygments_lexer": "ipython3",
   "version": "3.9.7"
  }
 },
 "nbformat": 4,
 "nbformat_minor": 5
}
